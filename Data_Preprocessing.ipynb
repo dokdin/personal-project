{
 "metadata": {
  "language_info": {
   "codemirror_mode": {
    "name": "ipython",
    "version": 3
   },
   "file_extension": ".py",
   "mimetype": "text/x-python",
   "name": "python",
   "nbconvert_exporter": "python",
   "pygments_lexer": "ipython3",
   "version": "3.7.6-final"
  },
  "orig_nbformat": 2,
  "kernelspec": {
   "name": "python3",
   "display_name": "Python 3"
  }
 },
 "nbformat": 4,
 "nbformat_minor": 2,
 "cells": [
  {
   "cell_type": "code",
   "execution_count": 1,
   "metadata": {},
   "outputs": [],
   "source": [
    "import pandas as pd \n",
    "# card1 = 201901-202003 카드사용량\n",
    "# card2 = 202004 카드사용량\n",
    "# wage = 구별 소득\n",
    "raw1=pd.read_csv('c:/data/personal/card1.csv')\n",
    "raw2=pd.read_csv('c:/data/personal/card2.csv')\n",
    "wage=pd.read_csv('c:/data/personal/wage.csv',encoding='cp949')\n"
   ]
  },
  {
   "cell_type": "code",
   "execution_count": 2,
   "metadata": {},
   "outputs": [
    {
     "output_type": "execute_result",
     "data": {
      "text/plain": [
       "          REG_YYMM CARD_SIDO_NM CARD_CCG_NM STD_CLSS_NM HOM_SIDO_NM  \\\n",
       "0           201901           강원         강릉시  건강보조식품 소매업          강원   \n",
       "1           201901           강원         강릉시  건강보조식품 소매업          강원   \n",
       "2           201901           강원         강릉시  건강보조식품 소매업          강원   \n",
       "3           201901           강원         강릉시  건강보조식품 소매업          강원   \n",
       "4           201901           강원         강릉시  건강보조식품 소매업          강원   \n",
       "...            ...          ...         ...         ...         ...   \n",
       "24697787    202003           충북         충주시    휴양콘도 운영업          충북   \n",
       "24697788    202003           충북         충주시    휴양콘도 운영업          충북   \n",
       "24697789    202003           충북         충주시    휴양콘도 운영업          충북   \n",
       "24697790    202003           충북         충주시    휴양콘도 운영업          충북   \n",
       "24697791    202003           충북         충주시    휴양콘도 운영업          충북   \n",
       "\n",
       "         HOM_CCG_NM  AGE  SEX_CTGO_CD  FLC  CSTMR_CNT      AMT  CNT  \n",
       "0               강릉시  20s            1    1          4   311200    4  \n",
       "1               강릉시  30s            1    2          7  1374500    8  \n",
       "2               강릉시  30s            2    2          6   818700    6  \n",
       "3               강릉시  40s            1    3          4  1717000    5  \n",
       "4               강릉시  40s            1    4          3  1047300    3  \n",
       "...             ...  ...          ...  ...        ...      ...  ...  \n",
       "24697787        충주시  30s            1    2          3    43300    4  \n",
       "24697788        충주시  40s            1    3          3    35000    3  \n",
       "24697789        충주시  50s            1    4          4   188000    6  \n",
       "24697790        충주시  50s            2    4          4    99000    6  \n",
       "24697791        충주시  60s            1    5          3   194000    3  \n",
       "\n",
       "[24697792 rows x 12 columns]"
      ],
      "text/html": "<div>\n<style scoped>\n    .dataframe tbody tr th:only-of-type {\n        vertical-align: middle;\n    }\n\n    .dataframe tbody tr th {\n        vertical-align: top;\n    }\n\n    .dataframe thead th {\n        text-align: right;\n    }\n</style>\n<table border=\"1\" class=\"dataframe\">\n  <thead>\n    <tr style=\"text-align: right;\">\n      <th></th>\n      <th>REG_YYMM</th>\n      <th>CARD_SIDO_NM</th>\n      <th>CARD_CCG_NM</th>\n      <th>STD_CLSS_NM</th>\n      <th>HOM_SIDO_NM</th>\n      <th>HOM_CCG_NM</th>\n      <th>AGE</th>\n      <th>SEX_CTGO_CD</th>\n      <th>FLC</th>\n      <th>CSTMR_CNT</th>\n      <th>AMT</th>\n      <th>CNT</th>\n    </tr>\n  </thead>\n  <tbody>\n    <tr>\n      <th>0</th>\n      <td>201901</td>\n      <td>강원</td>\n      <td>강릉시</td>\n      <td>건강보조식품 소매업</td>\n      <td>강원</td>\n      <td>강릉시</td>\n      <td>20s</td>\n      <td>1</td>\n      <td>1</td>\n      <td>4</td>\n      <td>311200</td>\n      <td>4</td>\n    </tr>\n    <tr>\n      <th>1</th>\n      <td>201901</td>\n      <td>강원</td>\n      <td>강릉시</td>\n      <td>건강보조식품 소매업</td>\n      <td>강원</td>\n      <td>강릉시</td>\n      <td>30s</td>\n      <td>1</td>\n      <td>2</td>\n      <td>7</td>\n      <td>1374500</td>\n      <td>8</td>\n    </tr>\n    <tr>\n      <th>2</th>\n      <td>201901</td>\n      <td>강원</td>\n      <td>강릉시</td>\n      <td>건강보조식품 소매업</td>\n      <td>강원</td>\n      <td>강릉시</td>\n      <td>30s</td>\n      <td>2</td>\n      <td>2</td>\n      <td>6</td>\n      <td>818700</td>\n      <td>6</td>\n    </tr>\n    <tr>\n      <th>3</th>\n      <td>201901</td>\n      <td>강원</td>\n      <td>강릉시</td>\n      <td>건강보조식품 소매업</td>\n      <td>강원</td>\n      <td>강릉시</td>\n      <td>40s</td>\n      <td>1</td>\n      <td>3</td>\n      <td>4</td>\n      <td>1717000</td>\n      <td>5</td>\n    </tr>\n    <tr>\n      <th>4</th>\n      <td>201901</td>\n      <td>강원</td>\n      <td>강릉시</td>\n      <td>건강보조식품 소매업</td>\n      <td>강원</td>\n      <td>강릉시</td>\n      <td>40s</td>\n      <td>1</td>\n      <td>4</td>\n      <td>3</td>\n      <td>1047300</td>\n      <td>3</td>\n    </tr>\n    <tr>\n      <th>...</th>\n      <td>...</td>\n      <td>...</td>\n      <td>...</td>\n      <td>...</td>\n      <td>...</td>\n      <td>...</td>\n      <td>...</td>\n      <td>...</td>\n      <td>...</td>\n      <td>...</td>\n      <td>...</td>\n      <td>...</td>\n    </tr>\n    <tr>\n      <th>24697787</th>\n      <td>202003</td>\n      <td>충북</td>\n      <td>충주시</td>\n      <td>휴양콘도 운영업</td>\n      <td>충북</td>\n      <td>충주시</td>\n      <td>30s</td>\n      <td>1</td>\n      <td>2</td>\n      <td>3</td>\n      <td>43300</td>\n      <td>4</td>\n    </tr>\n    <tr>\n      <th>24697788</th>\n      <td>202003</td>\n      <td>충북</td>\n      <td>충주시</td>\n      <td>휴양콘도 운영업</td>\n      <td>충북</td>\n      <td>충주시</td>\n      <td>40s</td>\n      <td>1</td>\n      <td>3</td>\n      <td>3</td>\n      <td>35000</td>\n      <td>3</td>\n    </tr>\n    <tr>\n      <th>24697789</th>\n      <td>202003</td>\n      <td>충북</td>\n      <td>충주시</td>\n      <td>휴양콘도 운영업</td>\n      <td>충북</td>\n      <td>충주시</td>\n      <td>50s</td>\n      <td>1</td>\n      <td>4</td>\n      <td>4</td>\n      <td>188000</td>\n      <td>6</td>\n    </tr>\n    <tr>\n      <th>24697790</th>\n      <td>202003</td>\n      <td>충북</td>\n      <td>충주시</td>\n      <td>휴양콘도 운영업</td>\n      <td>충북</td>\n      <td>충주시</td>\n      <td>50s</td>\n      <td>2</td>\n      <td>4</td>\n      <td>4</td>\n      <td>99000</td>\n      <td>6</td>\n    </tr>\n    <tr>\n      <th>24697791</th>\n      <td>202003</td>\n      <td>충북</td>\n      <td>충주시</td>\n      <td>휴양콘도 운영업</td>\n      <td>충북</td>\n      <td>충주시</td>\n      <td>60s</td>\n      <td>1</td>\n      <td>5</td>\n      <td>3</td>\n      <td>194000</td>\n      <td>3</td>\n    </tr>\n  </tbody>\n</table>\n<p>24697792 rows × 12 columns</p>\n</div>"
     },
     "metadata": {},
     "execution_count": 2
    }
   ],
   "source": [
    "# 201901-202003 데이터읽기\n",
    "raw1.head(100000000)"
   ]
  },
  {
   "cell_type": "code",
   "execution_count": 3,
   "metadata": {},
   "outputs": [
    {
     "output_type": "execute_result",
     "data": {
      "text/plain": [
       "   REG_YYMM CARD_SIDO_NM CARD_CCG_NM STD_CLSS_NM HOM_SIDO_NM HOM_CCG_NM  AGE  \\\n",
       "0    202004           강원         강릉시  건강보조식품 소매업          강원        강릉시  40s   \n",
       "1    202004           강원         강릉시  건강보조식품 소매업          강원        강릉시  40s   \n",
       "2    202004           강원         강릉시  건강보조식품 소매업          강원        강릉시  50s   \n",
       "3    202004           강원         강릉시  건강보조식품 소매업          강원        강릉시  50s   \n",
       "4    202004           강원         강릉시  건강보조식품 소매업          강원        강릉시  60s   \n",
       "\n",
       "   SEX_CTGO_CD  FLC  CSTMR_CNT      AMT  CNT  \n",
       "0            1    3          3   779600    4  \n",
       "1            2    3         14  2427700   15  \n",
       "2            1    4         18  2184600   18  \n",
       "3            2    4         21  3653100   23  \n",
       "4            1    5         15  2765500   18  "
      ],
      "text/html": "<div>\n<style scoped>\n    .dataframe tbody tr th:only-of-type {\n        vertical-align: middle;\n    }\n\n    .dataframe tbody tr th {\n        vertical-align: top;\n    }\n\n    .dataframe thead th {\n        text-align: right;\n    }\n</style>\n<table border=\"1\" class=\"dataframe\">\n  <thead>\n    <tr style=\"text-align: right;\">\n      <th></th>\n      <th>REG_YYMM</th>\n      <th>CARD_SIDO_NM</th>\n      <th>CARD_CCG_NM</th>\n      <th>STD_CLSS_NM</th>\n      <th>HOM_SIDO_NM</th>\n      <th>HOM_CCG_NM</th>\n      <th>AGE</th>\n      <th>SEX_CTGO_CD</th>\n      <th>FLC</th>\n      <th>CSTMR_CNT</th>\n      <th>AMT</th>\n      <th>CNT</th>\n    </tr>\n  </thead>\n  <tbody>\n    <tr>\n      <th>0</th>\n      <td>202004</td>\n      <td>강원</td>\n      <td>강릉시</td>\n      <td>건강보조식품 소매업</td>\n      <td>강원</td>\n      <td>강릉시</td>\n      <td>40s</td>\n      <td>1</td>\n      <td>3</td>\n      <td>3</td>\n      <td>779600</td>\n      <td>4</td>\n    </tr>\n    <tr>\n      <th>1</th>\n      <td>202004</td>\n      <td>강원</td>\n      <td>강릉시</td>\n      <td>건강보조식품 소매업</td>\n      <td>강원</td>\n      <td>강릉시</td>\n      <td>40s</td>\n      <td>2</td>\n      <td>3</td>\n      <td>14</td>\n      <td>2427700</td>\n      <td>15</td>\n    </tr>\n    <tr>\n      <th>2</th>\n      <td>202004</td>\n      <td>강원</td>\n      <td>강릉시</td>\n      <td>건강보조식품 소매업</td>\n      <td>강원</td>\n      <td>강릉시</td>\n      <td>50s</td>\n      <td>1</td>\n      <td>4</td>\n      <td>18</td>\n      <td>2184600</td>\n      <td>18</td>\n    </tr>\n    <tr>\n      <th>3</th>\n      <td>202004</td>\n      <td>강원</td>\n      <td>강릉시</td>\n      <td>건강보조식품 소매업</td>\n      <td>강원</td>\n      <td>강릉시</td>\n      <td>50s</td>\n      <td>2</td>\n      <td>4</td>\n      <td>21</td>\n      <td>3653100</td>\n      <td>23</td>\n    </tr>\n    <tr>\n      <th>4</th>\n      <td>202004</td>\n      <td>강원</td>\n      <td>강릉시</td>\n      <td>건강보조식품 소매업</td>\n      <td>강원</td>\n      <td>강릉시</td>\n      <td>60s</td>\n      <td>1</td>\n      <td>5</td>\n      <td>15</td>\n      <td>2765500</td>\n      <td>18</td>\n    </tr>\n  </tbody>\n</table>\n</div>"
     },
     "metadata": {},
     "execution_count": 3
    }
   ],
   "source": [
    "# 202004 데이터읽기\n",
    "raw2.head()"
   ]
  },
  {
   "cell_type": "code",
   "execution_count": 4,
   "metadata": {},
   "outputs": [
    {
     "output_type": "execute_result",
     "data": {
      "text/plain": [
       "     HOME     WAGE\n",
       "0  강원 강릉시  1879834\n",
       "1  강원 고성군  1928694\n",
       "2  강원 동해시  1882971\n",
       "3  강원 삼척시  2138766\n",
       "4  강원 속초시  1795991"
      ],
      "text/html": "<div>\n<style scoped>\n    .dataframe tbody tr th:only-of-type {\n        vertical-align: middle;\n    }\n\n    .dataframe tbody tr th {\n        vertical-align: top;\n    }\n\n    .dataframe thead th {\n        text-align: right;\n    }\n</style>\n<table border=\"1\" class=\"dataframe\">\n  <thead>\n    <tr style=\"text-align: right;\">\n      <th></th>\n      <th>HOME</th>\n      <th>WAGE</th>\n    </tr>\n  </thead>\n  <tbody>\n    <tr>\n      <th>0</th>\n      <td>강원 강릉시</td>\n      <td>1879834</td>\n    </tr>\n    <tr>\n      <th>1</th>\n      <td>강원 고성군</td>\n      <td>1928694</td>\n    </tr>\n    <tr>\n      <th>2</th>\n      <td>강원 동해시</td>\n      <td>1882971</td>\n    </tr>\n    <tr>\n      <th>3</th>\n      <td>강원 삼척시</td>\n      <td>2138766</td>\n    </tr>\n    <tr>\n      <th>4</th>\n      <td>강원 속초시</td>\n      <td>1795991</td>\n    </tr>\n  </tbody>\n</table>\n</div>"
     },
     "metadata": {},
     "execution_count": 4
    }
   ],
   "source": [
    "# 시군구별 평균소득월액 데이터읽기\n",
    "wage.head()"
   ]
  },
  {
   "cell_type": "code",
   "execution_count": 5,
   "metadata": {},
   "outputs": [],
   "source": [
    "# 카드데이터병합\n",
    "card=pd.concat([raw1,raw2])\n",
    "# 데이터 컬럼명 변경 \n",
    "card.columns=['DATE',\"CARD_AREA\",\"CARD_AREA_D\",\"CLASS\",\"HOME\",\"HOME_D\",\"AGE\",\"SEX\",\"HOUSE\",\"CLIENT\",\"AMT\",\"CNT\"]\n"
   ]
  },
  {
   "cell_type": "code",
   "execution_count": 6,
   "metadata": {},
   "outputs": [],
   "source": [
    "# wage데이터를 병합하기 위해 거주지역시도+거주지역 시군구\n",
    "card['HOME']=card['HOME'].map(str)+\" \"+card['HOME_D']\n",
    "# 데이터가 중복되므로 거주지역 시군구 삭제\n",
    "card=card.drop(['HOME_D'],axis='columns')\n",
    "# 카드데이터에서 wage에 없는 시군구 선택\n",
    "mask=card['HOME'].isin(['경기 고양시 일산동구','경기 고양시 일산서구','경기 성남시 수정구','경기 성남시 중원구','경기 수원시 장안구',\n",
    "'경기 수원시 팔달구','경기 안산시 상록구','경기 용인시 수지구','경기 용인시 처인구','경남 창원시 마산회원구'\n",
    ",'경남 창원시 성산구','경남 창원시 성산구','경남 창원시 진해구','경북 포항시 북구','전북 전주시 완산구','충남 천안시 서북구','충북 청주시 서원구','충북 청주시 청원구','충북 청주시 흥덕구','경기 수원시 영통구','경기 안양시 만안구','경남 창원시 의창구'])\n",
    "# 카드데이터에서 wage에 없는 시군구만 삭제하기\n",
    "card_remove=card[~mask]\n"
   ]
  },
  {
   "cell_type": "code",
   "execution_count": 7,
   "metadata": {},
   "outputs": [],
   "source": [
    "# 전처리가 완료된 카드데이터와 시군구별 월소득액 데이터 조인 \n",
    "card=pd.merge(card_remove,wage)"
   ]
  },
  {
   "cell_type": "code",
   "execution_count": 8,
   "metadata": {},
   "outputs": [
    {
     "output_type": "execute_result",
     "data": {
      "text/plain": [
       "     DATE CARD_AREA CARD_AREA_D       CLASS    HOME  AGE  SEX  HOUSE  CLIENT  \\\n",
       "0  201901        강원         강릉시  건강보조식품 소매업  강원 강릉시  20s    1      1       4   \n",
       "1  201901        강원         강릉시  건강보조식품 소매업  강원 강릉시  30s    1      2       7   \n",
       "2  201901        강원         강릉시  건강보조식품 소매업  강원 강릉시  30s    2      2       6   \n",
       "3  201901        강원         강릉시  건강보조식품 소매업  강원 강릉시  40s    1      3       4   \n",
       "4  201901        강원         강릉시  건강보조식품 소매업  강원 강릉시  40s    1      4       3   \n",
       "\n",
       "       AMT  CNT     WAGE  \n",
       "0   311200    4  1879834  \n",
       "1  1374500    8  1879834  \n",
       "2   818700    6  1879834  \n",
       "3  1717000    5  1879834  \n",
       "4  1047300    3  1879834  "
      ],
      "text/html": "<div>\n<style scoped>\n    .dataframe tbody tr th:only-of-type {\n        vertical-align: middle;\n    }\n\n    .dataframe tbody tr th {\n        vertical-align: top;\n    }\n\n    .dataframe thead th {\n        text-align: right;\n    }\n</style>\n<table border=\"1\" class=\"dataframe\">\n  <thead>\n    <tr style=\"text-align: right;\">\n      <th></th>\n      <th>DATE</th>\n      <th>CARD_AREA</th>\n      <th>CARD_AREA_D</th>\n      <th>CLASS</th>\n      <th>HOME</th>\n      <th>AGE</th>\n      <th>SEX</th>\n      <th>HOUSE</th>\n      <th>CLIENT</th>\n      <th>AMT</th>\n      <th>CNT</th>\n      <th>WAGE</th>\n    </tr>\n  </thead>\n  <tbody>\n    <tr>\n      <th>0</th>\n      <td>201901</td>\n      <td>강원</td>\n      <td>강릉시</td>\n      <td>건강보조식품 소매업</td>\n      <td>강원 강릉시</td>\n      <td>20s</td>\n      <td>1</td>\n      <td>1</td>\n      <td>4</td>\n      <td>311200</td>\n      <td>4</td>\n      <td>1879834</td>\n    </tr>\n    <tr>\n      <th>1</th>\n      <td>201901</td>\n      <td>강원</td>\n      <td>강릉시</td>\n      <td>건강보조식품 소매업</td>\n      <td>강원 강릉시</td>\n      <td>30s</td>\n      <td>1</td>\n      <td>2</td>\n      <td>7</td>\n      <td>1374500</td>\n      <td>8</td>\n      <td>1879834</td>\n    </tr>\n    <tr>\n      <th>2</th>\n      <td>201901</td>\n      <td>강원</td>\n      <td>강릉시</td>\n      <td>건강보조식품 소매업</td>\n      <td>강원 강릉시</td>\n      <td>30s</td>\n      <td>2</td>\n      <td>2</td>\n      <td>6</td>\n      <td>818700</td>\n      <td>6</td>\n      <td>1879834</td>\n    </tr>\n    <tr>\n      <th>3</th>\n      <td>201901</td>\n      <td>강원</td>\n      <td>강릉시</td>\n      <td>건강보조식품 소매업</td>\n      <td>강원 강릉시</td>\n      <td>40s</td>\n      <td>1</td>\n      <td>3</td>\n      <td>4</td>\n      <td>1717000</td>\n      <td>5</td>\n      <td>1879834</td>\n    </tr>\n    <tr>\n      <th>4</th>\n      <td>201901</td>\n      <td>강원</td>\n      <td>강릉시</td>\n      <td>건강보조식품 소매업</td>\n      <td>강원 강릉시</td>\n      <td>40s</td>\n      <td>1</td>\n      <td>4</td>\n      <td>3</td>\n      <td>1047300</td>\n      <td>3</td>\n      <td>1879834</td>\n    </tr>\n  </tbody>\n</table>\n</div>"
     },
     "metadata": {},
     "execution_count": 8
    }
   ],
   "source": [
    "# 최종확인\n",
    "card.head()"
   ]
  },
  {
   "cell_type": "code",
   "execution_count": 9,
   "metadata": {},
   "outputs": [],
   "source": [
    "# 새로운 파생변수 CANCEL (카드취소) 추가\n",
    "# 이용고객수가 이용건수보다 크다는 것은 일부고객중에는 사용하고 취소한사례가 있다는 것을 의미한다. \n",
    "# 즉 이용건수 - 총 고객수 = 음수가 나오면 결제가 취소된 것을 의미한다. \n",
    "card['CANCEL']=card['CNT']-card['CLIENT']\n",
    "# 0 = 정상거래 0보다 클 경우: 카드취소거래  \n",
    "card['CANCEL']=card['CANCEL'].apply(lambda x: 0 if x > 0 else x*-1 )"
   ]
  },
  {
   "cell_type": "code",
   "execution_count": 10,
   "metadata": {},
   "outputs": [
    {
     "output_type": "execute_result",
     "data": {
      "text/plain": [
       "            DATE CARD_AREA CARD_AREA_D       CLASS    HOME  AGE  SEX  HOUSE  \\\n",
       "0         201901        강원         강릉시  건강보조식품 소매업  강원 강릉시  20s    1      1   \n",
       "1         201901        강원         강릉시  건강보조식품 소매업  강원 강릉시  30s    1      2   \n",
       "2         201901        강원         강릉시  건강보조식품 소매업  강원 강릉시  30s    2      2   \n",
       "3         201901        강원         강릉시  건강보조식품 소매업  강원 강릉시  40s    1      3   \n",
       "4         201901        강원         강릉시  건강보조식품 소매업  강원 강릉시  40s    1      4   \n",
       "...          ...       ...         ...         ...     ...  ...  ...    ...   \n",
       "22681413  202004        서울          중구      택시 운송업  경남 의령군  50s    2      4   \n",
       "22681414  202004        서울          중구      택시 운송업  경남 의령군  60s    1      5   \n",
       "22681415  202004        서울          중구      택시 운송업  경남 의령군  60s    2      5   \n",
       "22681416  202004        전남         광양시     한식 음식점업  경남 의령군  50s    1      4   \n",
       "22681417  202004        충남         금산군     한식 음식점업  경남 의령군  50s    1      4   \n",
       "\n",
       "          CLIENT      AMT  CNT     WAGE  CANCEL  \n",
       "0              4   311200    4  1879834       0  \n",
       "1              7  1374500    8  1879834       0  \n",
       "2              6   818700    6  1879834       0  \n",
       "3              4  1717000    5  1879834       0  \n",
       "4              3  1047300    3  1879834       0  \n",
       "...          ...      ...  ...      ...     ...  \n",
       "22681413      16   322960   24  1970021       0  \n",
       "22681414      12   674320   26  1970021       0  \n",
       "22681415       9   599600   48  1970021       0  \n",
       "22681416       6    62900    9  1970021       0  \n",
       "22681417       4    45500    5  1970021       0  \n",
       "\n",
       "[22681418 rows x 13 columns]"
      ],
      "text/html": "<div>\n<style scoped>\n    .dataframe tbody tr th:only-of-type {\n        vertical-align: middle;\n    }\n\n    .dataframe tbody tr th {\n        vertical-align: top;\n    }\n\n    .dataframe thead th {\n        text-align: right;\n    }\n</style>\n<table border=\"1\" class=\"dataframe\">\n  <thead>\n    <tr style=\"text-align: right;\">\n      <th></th>\n      <th>DATE</th>\n      <th>CARD_AREA</th>\n      <th>CARD_AREA_D</th>\n      <th>CLASS</th>\n      <th>HOME</th>\n      <th>AGE</th>\n      <th>SEX</th>\n      <th>HOUSE</th>\n      <th>CLIENT</th>\n      <th>AMT</th>\n      <th>CNT</th>\n      <th>WAGE</th>\n      <th>CANCEL</th>\n    </tr>\n  </thead>\n  <tbody>\n    <tr>\n      <th>0</th>\n      <td>201901</td>\n      <td>강원</td>\n      <td>강릉시</td>\n      <td>건강보조식품 소매업</td>\n      <td>강원 강릉시</td>\n      <td>20s</td>\n      <td>1</td>\n      <td>1</td>\n      <td>4</td>\n      <td>311200</td>\n      <td>4</td>\n      <td>1879834</td>\n      <td>0</td>\n    </tr>\n    <tr>\n      <th>1</th>\n      <td>201901</td>\n      <td>강원</td>\n      <td>강릉시</td>\n      <td>건강보조식품 소매업</td>\n      <td>강원 강릉시</td>\n      <td>30s</td>\n      <td>1</td>\n      <td>2</td>\n      <td>7</td>\n      <td>1374500</td>\n      <td>8</td>\n      <td>1879834</td>\n      <td>0</td>\n    </tr>\n    <tr>\n      <th>2</th>\n      <td>201901</td>\n      <td>강원</td>\n      <td>강릉시</td>\n      <td>건강보조식품 소매업</td>\n      <td>강원 강릉시</td>\n      <td>30s</td>\n      <td>2</td>\n      <td>2</td>\n      <td>6</td>\n      <td>818700</td>\n      <td>6</td>\n      <td>1879834</td>\n      <td>0</td>\n    </tr>\n    <tr>\n      <th>3</th>\n      <td>201901</td>\n      <td>강원</td>\n      <td>강릉시</td>\n      <td>건강보조식품 소매업</td>\n      <td>강원 강릉시</td>\n      <td>40s</td>\n      <td>1</td>\n      <td>3</td>\n      <td>4</td>\n      <td>1717000</td>\n      <td>5</td>\n      <td>1879834</td>\n      <td>0</td>\n    </tr>\n    <tr>\n      <th>4</th>\n      <td>201901</td>\n      <td>강원</td>\n      <td>강릉시</td>\n      <td>건강보조식품 소매업</td>\n      <td>강원 강릉시</td>\n      <td>40s</td>\n      <td>1</td>\n      <td>4</td>\n      <td>3</td>\n      <td>1047300</td>\n      <td>3</td>\n      <td>1879834</td>\n      <td>0</td>\n    </tr>\n    <tr>\n      <th>...</th>\n      <td>...</td>\n      <td>...</td>\n      <td>...</td>\n      <td>...</td>\n      <td>...</td>\n      <td>...</td>\n      <td>...</td>\n      <td>...</td>\n      <td>...</td>\n      <td>...</td>\n      <td>...</td>\n      <td>...</td>\n      <td>...</td>\n    </tr>\n    <tr>\n      <th>22681413</th>\n      <td>202004</td>\n      <td>서울</td>\n      <td>중구</td>\n      <td>택시 운송업</td>\n      <td>경남 의령군</td>\n      <td>50s</td>\n      <td>2</td>\n      <td>4</td>\n      <td>16</td>\n      <td>322960</td>\n      <td>24</td>\n      <td>1970021</td>\n      <td>0</td>\n    </tr>\n    <tr>\n      <th>22681414</th>\n      <td>202004</td>\n      <td>서울</td>\n      <td>중구</td>\n      <td>택시 운송업</td>\n      <td>경남 의령군</td>\n      <td>60s</td>\n      <td>1</td>\n      <td>5</td>\n      <td>12</td>\n      <td>674320</td>\n      <td>26</td>\n      <td>1970021</td>\n      <td>0</td>\n    </tr>\n    <tr>\n      <th>22681415</th>\n      <td>202004</td>\n      <td>서울</td>\n      <td>중구</td>\n      <td>택시 운송업</td>\n      <td>경남 의령군</td>\n      <td>60s</td>\n      <td>2</td>\n      <td>5</td>\n      <td>9</td>\n      <td>599600</td>\n      <td>48</td>\n      <td>1970021</td>\n      <td>0</td>\n    </tr>\n    <tr>\n      <th>22681416</th>\n      <td>202004</td>\n      <td>전남</td>\n      <td>광양시</td>\n      <td>한식 음식점업</td>\n      <td>경남 의령군</td>\n      <td>50s</td>\n      <td>1</td>\n      <td>4</td>\n      <td>6</td>\n      <td>62900</td>\n      <td>9</td>\n      <td>1970021</td>\n      <td>0</td>\n    </tr>\n    <tr>\n      <th>22681417</th>\n      <td>202004</td>\n      <td>충남</td>\n      <td>금산군</td>\n      <td>한식 음식점업</td>\n      <td>경남 의령군</td>\n      <td>50s</td>\n      <td>1</td>\n      <td>4</td>\n      <td>4</td>\n      <td>45500</td>\n      <td>5</td>\n      <td>1970021</td>\n      <td>0</td>\n    </tr>\n  </tbody>\n</table>\n<p>22681418 rows × 13 columns</p>\n</div>"
     },
     "metadata": {},
     "execution_count": 10
    }
   ],
   "source": [
    "card.head(100000000)"
   ]
  },
  {
   "cell_type": "code",
   "execution_count": 11,
   "metadata": {},
   "outputs": [
    {
     "output_type": "stream",
     "name": "stdout",
     "text": [
      "========================================날짜========================================\n",
      " [201901 201902 201903 201904 201905 201906 201907 201908 201909 201910\n",
      " 201911 201912 202001 202002 202003 202004]\n",
      "========================================카드사용처_지역========================================\n",
      " ['강원' '경기' '경남' '경북' '광주' '대구' '대전' '부산' '서울' '세종' '울산' '인천' '전남' '전북'\n",
      " '제주' '충남' '충북']\n",
      "========================================카드사용처_구========================================\n",
      " ['강릉시' '고성군' '동해시' '삼척시' '속초시' '양구군' '양양군' '영월군' '원주시' '인제군' '정선군' '철원군'\n",
      " '춘천시' '태백시' '평창군' '홍천군' '화천군' '횡성군' '가평군' '고양시 덕양구' '고양시 일산동구' '고양시 일산서구'\n",
      " '광명시' '광주시' '구리시' '군포시' '김포시' '남양주시' '동두천시' '부천시' '성남시 분당구' '성남시 수정구'\n",
      " '성남시 중원구' '수원시 권선구' '수원시 영통구' '수원시 장안구' '수원시 팔달구' '시흥시' '안산시 단원구'\n",
      " '안산시 상록구' '안성시' '안양시 동안구' '안양시 만안구' '양주시' '양평군' '여주시' '연천군' '오산시'\n",
      " '용인시 기흥구' '용인시 수지구' '용인시 처인구' '의왕시' '의정부시' '이천시' '파주시' '평택시' '포천시' '하남시'\n",
      " '화성시' '거제시' '거창군' '김해시' '사천시' '양산시' '진주시' '창원시 마산회원구' '창원시 성산구' '창원시 진해구'\n",
      " '통영시' '함안군' '함양군' '경산시' '경주시' '구미시' '군위군' '안동시' '영덕군' '울진군' '청도군' '칠곡군'\n",
      " '포항시 남구' '포항시 북구' '광산구' '동구' '서구' '남구' '달서구' '달성군' '북구' '수성구' '중구' '유성구'\n",
      " '금정구' '기장군' '부산진구' '수영구' '연제구' '영도구' '해운대구' '강남구' '강동구' '강북구' '강서구' '관악구'\n",
      " '광진구' '구로구' '금천구' '노원구' '도봉구' '동대문구' '동작구' '마포구' '서대문구' '서초구' '성동구' '성북구'\n",
      " '송파구' '양천구' '영등포구' '용산구' '은평구' '종로구' '중랑구' nan '울주군' '계양구' '남동구' '부평구'\n",
      " '연수구' '광양시' '목포시' '순천시' '여수시' '장성군' '고창군' '군산시' '완주군' '익산시' '전주시 덕진구'\n",
      " '전주시 완산구' '서귀포시' '제주시' '계룡시' '공주시' '논산시' '당진시' '서산시' '아산시' '천안시 동남구'\n",
      " '천안시 서북구' '청양군' '태안군' '단양군' '음성군' '제천시' '진천군' '청주시 상당구' '청주시 서원구'\n",
      " '청주시 청원구' '청주시 흥덕구' '충주시' '창녕군' '합천군' '문경시' '봉화군' '영주시' '대덕구' '동래구' '사하구'\n",
      " '임실군' '장수군' '금산군' '홍성군' '옥천군' '과천시' '산청군' '창원시 마산합포구' '창원시 의창구' '김천시'\n",
      " '울릉군' '의성군' '사상구' '옹진군' '보령시' '서천군' '보은군' '청송군' '강화군' '무안군' '함평군' '부안군'\n",
      " '부여군' '괴산군' '예천군' '담양군' '구례군' '화순군' '보성군' '신안군' '남원시' '영동군' '영천시' '상주시'\n",
      " '나주시' '성주군' '해남군' '예산군' '완도군' '진안군' '강진군' '무주군' '증평군' '순창군' '영광군' '영암군'\n",
      " '정읍시' '남해군' '밀양시' '진도군' '고흥군' '장흥군' '김제시' '곡성군' '하동군' '고령군' '의령군' '영양군']\n",
      "========================================사용업종========================================\n",
      " ['건강보조식품 소매업' '골프장 운영업' '과실 및 채소 소매업' '관광 민예품 및 선물용품 소매업'\n",
      " '그외 기타 스포츠시설 운영업' '그외 기타 종합 소매업' '기타 대형 종합 소매업' '기타 외국식 음식점업' '기타 주점업'\n",
      " '기타음식료품위주종합소매업' '마사지업' '비알콜 음료점업' '빵 및 과자류 소매업' '서양식 음식점업' '수산물 소매업'\n",
      " '슈퍼마켓' '스포츠 및 레크레이션 용품 임대업' '여관업' '욕탕업' '육류 소매업' '일반유흥 주점업' '일식 음식점업'\n",
      " '전시 및 행사 대행업' '중식 음식점업' '차량용 가스 충전업' '차량용 주유소 운영업' '체인화 편의점'\n",
      " '피자 햄버거 샌드위치 및 유사 음식점업' '한식 음식점업' '화장품 및 방향제 소매업' '휴양콘도 운영업' '여행사업' '호텔업'\n",
      " '면세점' '택시 운송업' '내항 여객 운송업' '정기 항공 운송업' '버스 운송업' '자동차 임대업' '기타 수상오락 서비스업'\n",
      " '그외 기타 분류안된 오락관련 서비스업']\n",
      "========================================사는지역========================================\n",
      " ['강원 강릉시' '강원 속초시' '강원 동해시' '강원 춘천시' '강원 평창군' '경기 성남시 분당구' '경기 안산시 단원구'\n",
      " '경기 용인시 기흥구' '서울 강남구' '강원 영월군' '강원 원주시' '강원 정선군' '강원 홍천군' '강원 횡성군'\n",
      " '경기 가평군' '경기 고양시 덕양구' '경기 광명시' '경기 광주시' '경기 구리시' '경기 군포시' '경기 김포시'\n",
      " '경기 남양주시' '경기 부천시' '경기 수원시 권선구' '경기 시흥시' '경기 안성시' '경기 안양시 동안구' '경기 양주시'\n",
      " '경기 양평군' '경기 여주시' '경기 오산시' '경기 의왕시' '경기 의정부시' '경기 이천시' '경기 파주시' '경기 평택시'\n",
      " '경기 포천시' '경기 하남시' '경기 화성시' '경북 상주시' '경북 포항시 남구' '대구 달서구' '대전 대덕구' '대전 서구'\n",
      " '대전 유성구' '서울 강동구' '서울 강북구' '서울 강서구' '서울 관악구' '서울 광진구' '서울 구로구' '서울 금천구'\n",
      " '서울 노원구' '서울 도봉구' '서울 동대문구' '서울 동작구' '서울 마포구' '서울 서대문구' '서울 서초구' '서울 성동구'\n",
      " '서울 성북구' '서울 송파구' '서울 양천구' '서울 영등포구' '서울 용산구' '서울 은평구' '서울 종로구' '서울 중구'\n",
      " '서울 중랑구' '인천 계양구' '인천 남구' '인천 남동구' '인천 부평구' '인천 서구' '인천 연수구' '충남 아산시'\n",
      " '충남 천안시 동남구' '충북 괴산군' '충북 제천시' '충북 진천군' '충북 청주시 상당구' '충북 충주시' '대구 북구'\n",
      " '강원 고성군' '강원 삼척시' '강원 양양군' '강원 인제군' '강원 태백시' '경남 김해시' '경남 양산시'\n",
      " '경남 창원시 마산합포구' '경북 경산시' '경북 경주시' '경북 구미시' '경북 안동시' '경북 울진군' '광주 광산구'\n",
      " '광주 북구' '대구 남구' '대구 달성군' '대구 동구' '대구 수성구' '대전 동구' '대전 중구' '부산 금정구'\n",
      " '부산 기장군' '부산 동래구' '부산 부산진구' '부산 북구' '부산 사하구' '부산 해운대구' '울산 남구' '울산 동구'\n",
      " '울산 북구' '인천 동구' '전남 목포시' '전북 군산시' '전북 익산시' '제주 제주시' '충남 논산시' '충남 당진시'\n",
      " '충남 서산시' '충북 음성군' '경기 과천시' '경기 동두천시' '경북 영주시' '광주 남구' '광주 서구' '대구 서구'\n",
      " '울산 중구' '인천 중구' '전남 순천시' '경기 연천군' '경남 진주시' '부산 강서구' '부산 사상구' '부산 연제구'\n",
      " '충남 계룡시' '충남 공주시' '강원 철원군' '인천 강화군' '전남 여수시' '울산 울주군' '경남 거제시' '경북 봉화군'\n",
      " '경북 영덕군' '부산 남구' '충북 단양군' '강원 양구군' '강원 화천군' '경북 김천시' '경북 예천군' '경북 칠곡군'\n",
      " '광주 동구' '대구 중구' '부산 수영구' '부산 영도구' '전남 광양시' '제주 서귀포시' '충남 보령시' '충남 홍성군'\n",
      " '경남 사천시' '경남 통영시' '경북 영천시' '전북 김제시' '충남 서천군' '충북 옥천군' '충북 증평군' '경북 울릉군'\n",
      " '부산 동구' '부산 서구' '전남 화순군' '충남 예산군' '전북 완주군' '충남 태안군' '전남 나주시' '경남 창녕군'\n",
      " '전북 정읍시' '경남 밀양시' '경남 함안군' '부산 중구' '전남 담양군' '전북 부안군' '충남 부여군' '경북 의성군'\n",
      " '경북 문경시' '경북 청송군' '전남 영암군' '전북 남원시' '충남 금산군' '충북 보은군' '경남 산청군' '경남 거창군'\n",
      " '경남 함양군' '경북 고령군' '경북 청도군' '충북 영동군' '전남 무안군' '전남 해남군' '경남 하동군' '전남 구례군'\n",
      " '전남 완도군' '경남 합천군' '경북 성주군' '전남 장성군' '전북 고창군' '전북 무주군' '경남 남해군' '경북 군위군'\n",
      " '전남 신안군' '전남 영광군' '전북 임실군' '충남 청양군' '경남 고성군' '전남 보성군' '인천 옹진군' '전남 고흥군'\n",
      " '전남 강진군' '전남 진도군' '전남 곡성군' '전남 함평군' '경북 영양군' '전남 장흥군' '전북 진안군' '전북 순창군'\n",
      " '전북 장수군' '경남 의령군']\n",
      "========================================사는지역_구========================================\n",
      " ['20s' '30s' '40s' '50s' '60s' '70s' '10s']\n",
      "========================================성별========================================\n",
      " [1 2]\n",
      "========================================가구형태========================================\n",
      " [1 2 3 4 5]\n",
      "========================================고객수========================================\n",
      " [    4     7     6 ... 10648  9704  8768]\n",
      "========================================거래금액========================================\n",
      " [ 311200 1374500  818700 ... 5885326  553853 1262949]\n",
      "========================================이용건수========================================\n",
      " [    4     8     6 ... 13676 17636 20089]\n",
      "========================================구별평균소득========================================\n",
      " [1879834 1795991 1882971 1913397 1865679 2678404 2392167 2480416 2759031\n",
      " 1906465 2312604 2466599 1978057 1936773 1893631 1976996 2160589 2151478\n",
      " 1859065 2183019 2240729 1883134 2017712 2746762 2397567 2385263 2360169\n",
      " 2029303 1785488 2056349 2091623 2260217 1742987 2893320 2155460 2604783\n",
      " 2115007 2082985 2669953 1749071 2585727 2144833 2611131 1935030 2540552\n",
      " 2308384 1655036 2503888 1823791 1997491 2348314 2548108 1782631 1679599\n",
      " 2033946 2097330 2455158 2288074 3009448 2476470 1822824 2483148 1963020\n",
      " 3182411 2539369 1736519 3007628 3120706 1795134 1822802 1870321 2263479\n",
      " 2196903 2223604 2370834 2555003 2334384 2009274 1872923 2628748 2194768\n",
      " 2047089 1971452 1928694 2138766 1790114 1726598 1950194 2221890 2292033\n",
      " 2395638 2111205 2588636 2351791 1854599 2024425 2180461 1918399 1756888\n",
      " 2359960 2103605 1910259 2187359 1819046 1964808 2213594 1899069 2025964\n",
      " 1726353 2054407 2031148 2388351 2968507 2385524 2731778 1719236 2132924\n",
      " 1940532 2015490 1926424 2680560 2604607 2579271 2452834 1841616 1862650\n",
      " 1799856 2157469 1949831 2261679 2478842 1866934 1872702 2207642 2760255\n",
      " 2224061 1943907 1767242 2244585 1731115 1888932 2353688 2528967 2607185\n",
      " 1656411 1731845 2335888 1922435 1628153 1692832 2476930 1674278 2171821\n",
      " 2028054 1960344 1848566 2219032 2333251 1969949 2205528 1893752 2370039\n",
      " 1803966 2223838 1979854 2034902 2007468 2098360 1816841 2256578 1962555\n",
      " 2062360 2108479 2243519 2183920 3113178 2135205 1810286 1960781 2438629\n",
      " 2427117 1919685 1732616 1842486 1674522 1788218 1611175 2329329 1686999\n",
      " 2231226 2133702 1780185 1755211 1740939 2171767 1783680 1787824 1783859\n",
      " 1788135 1764796 1671493 1636068 1700104 2048485 2018537 1683283 1732371\n",
      " 1649370 1865605 1565294 1840553 1737185 1890149 2076405 1679129 1821610\n",
      " 1633216 1700589 1646850 1744248 1826270 1570681 1679190 1704945 1688645\n",
      " 1666107 1970021]\n",
      "========================================카드결제취소수========================================\n",
      " [  0   1   3   2   5   4   6   7   8   9  12  13  10  51  15  16  24  11\n",
      "  25  28  20  67  62 112 103  65  14  17  44  83  60  35  29  19  21  23\n",
      "  49  39  38  27  26  31  37  82  90  71  18  36 105  68  33 101 100  22\n",
      " 135  59  32  30  42  64  73  53  46  34  58  41  54  40  79  84  76  50\n",
      "  61  47  48  63  55 104  93  45  88  70  43  91  72  52  66 108  57  75\n",
      "  96  85  77 121  56  78  81 157 234 236 151  86  94]\n"
     ]
    }
   ],
   "source": [
    "# 각 컬럼의 고유값들을 확인\n",
    "# 카드 사용처_구에서 'nan' 결측치를 발견 \n",
    "print('========================================날짜========================================\\n',card['DATE'].unique())\n",
    "print('========================================카드사용처_지역========================================\\n',card['CARD_AREA'].unique())\n",
    "print('========================================카드사용처_구========================================\\n',card['CARD_AREA_D'].unique())\n",
    "print('========================================사용업종========================================\\n',card['CLASS'].unique())\n",
    "print('========================================사는지역========================================\\n',card['HOME'].unique())\n",
    "print('========================================사는지역_구========================================\\n',card['AGE'].unique())\n",
    "print('========================================성별========================================\\n',card['SEX'].unique())\n",
    "print('========================================가구형태========================================\\n',card['HOUSE'].unique())\n",
    "print('========================================고객수========================================\\n',card['CLIENT'].unique())\n",
    "print('========================================거래금액========================================\\n',card['AMT'].unique())\n",
    "print('========================================이용건수========================================\\n',card['CNT'].unique())\n",
    "print('========================================구별평균소득========================================\\n',card['WAGE'].unique())\n",
    "print('========================================카드결제취소수========================================\\n',card['CANCEL'].unique())"
   ]
  },
  {
   "cell_type": "code",
   "execution_count": 12,
   "metadata": {},
   "outputs": [
    {
     "output_type": "execute_result",
     "data": {
      "text/plain": [
       "DATE               0\n",
       "CARD_AREA          0\n",
       "CARD_AREA_D    67741\n",
       "CLASS              0\n",
       "HOME               0\n",
       "AGE                0\n",
       "SEX                0\n",
       "HOUSE              0\n",
       "CLIENT             0\n",
       "AMT                0\n",
       "CNT                0\n",
       "WAGE               0\n",
       "CANCEL             0\n",
       "dtype: int64"
      ]
     },
     "metadata": {},
     "execution_count": 12
    }
   ],
   "source": [
    "# 결측치 총 개수 확인 \n",
    "card.isnull().sum()"
   ]
  },
  {
   "cell_type": "code",
   "execution_count": 13,
   "metadata": {},
   "outputs": [],
   "source": [
    "# 약 22681418 건의 거래데이터가 존재\n",
    "# 충분한 데이터가 있다고 판단하에 카드 사용처_구에 결측치를 제거 \n",
    "card_no_na=card.dropna()"
   ]
  },
  {
   "cell_type": "code",
   "execution_count": 14,
   "metadata": {},
   "outputs": [
    {
     "output_type": "execute_result",
     "data": {
      "text/plain": [
       "DATE           0\n",
       "CARD_AREA      0\n",
       "CARD_AREA_D    0\n",
       "CLASS          0\n",
       "HOME           0\n",
       "AGE            0\n",
       "SEX            0\n",
       "HOUSE          0\n",
       "CLIENT         0\n",
       "AMT            0\n",
       "CNT            0\n",
       "WAGE           0\n",
       "CANCEL         0\n",
       "dtype: int64"
      ]
     },
     "metadata": {},
     "execution_count": 14
    }
   ],
   "source": [
    "# 결측치 총 개수 재확인 \n",
    "card_no_na.isnull().sum()"
   ]
  },
  {
   "cell_type": "code",
   "execution_count": 15,
   "metadata": {},
   "outputs": [],
   "source": [
    "#  데이터값 바꿔주기\n",
    "def test1(x):\n",
    "    if x=='60s': return '60대'\n",
    "    elif x=='50s': return '50대'\n",
    "    elif x=='40s': return '40대'\n",
    "    elif x=='30s': return '30대'\n",
    "    elif x=='20s': return '20대'\n",
    "    else: return '10대'\n",
    "\n",
    "def test2(x):\n",
    "    if x==1: return '남성'\n",
    "    else: return '여성'\n",
    "\n",
    "def test3(x):\n",
    "    if x==1: return '1인가구'\n",
    "    elif x==2: return '영유아자녀가구'\n",
    "    elif x==3: return '중고생자녀가구'\n",
    "    elif x==4: return '성인자녀가구'\n",
    "    else: return '노년가구'\n",
    "\n",
    "\n",
    "card_no_na['AGE']=card_no_na['AGE'].apply(test1)\n",
    "card_no_na['SEX']=card_no_na['SEX'].apply(test2)\n",
    "card_no_na['HOUSE']=card_no_na['HOUSE'].apply(test3)"
   ]
  },
  {
   "cell_type": "code",
   "execution_count": 16,
   "metadata": {},
   "outputs": [
    {
     "output_type": "execute_result",
     "data": {
      "text/plain": [
       "     DATE CARD_AREA CARD_AREA_D       CLASS    HOME  AGE SEX    HOUSE  CLIENT  \\\n",
       "0  201901        강원         강릉시  건강보조식품 소매업  강원 강릉시  20대  남성     1인가구       4   \n",
       "1  201901        강원         강릉시  건강보조식품 소매업  강원 강릉시  30대  남성  영유아자녀가구       7   \n",
       "2  201901        강원         강릉시  건강보조식품 소매업  강원 강릉시  30대  여성  영유아자녀가구       6   \n",
       "3  201901        강원         강릉시  건강보조식품 소매업  강원 강릉시  40대  남성  중고생자녀가구       4   \n",
       "4  201901        강원         강릉시  건강보조식품 소매업  강원 강릉시  40대  남성   성인자녀가구       3   \n",
       "\n",
       "       AMT  CNT     WAGE  CANCEL  \n",
       "0   311200    4  1879834       0  \n",
       "1  1374500    8  1879834       0  \n",
       "2   818700    6  1879834       0  \n",
       "3  1717000    5  1879834       0  \n",
       "4  1047300    3  1879834       0  "
      ],
      "text/html": "<div>\n<style scoped>\n    .dataframe tbody tr th:only-of-type {\n        vertical-align: middle;\n    }\n\n    .dataframe tbody tr th {\n        vertical-align: top;\n    }\n\n    .dataframe thead th {\n        text-align: right;\n    }\n</style>\n<table border=\"1\" class=\"dataframe\">\n  <thead>\n    <tr style=\"text-align: right;\">\n      <th></th>\n      <th>DATE</th>\n      <th>CARD_AREA</th>\n      <th>CARD_AREA_D</th>\n      <th>CLASS</th>\n      <th>HOME</th>\n      <th>AGE</th>\n      <th>SEX</th>\n      <th>HOUSE</th>\n      <th>CLIENT</th>\n      <th>AMT</th>\n      <th>CNT</th>\n      <th>WAGE</th>\n      <th>CANCEL</th>\n    </tr>\n  </thead>\n  <tbody>\n    <tr>\n      <th>0</th>\n      <td>201901</td>\n      <td>강원</td>\n      <td>강릉시</td>\n      <td>건강보조식품 소매업</td>\n      <td>강원 강릉시</td>\n      <td>20대</td>\n      <td>남성</td>\n      <td>1인가구</td>\n      <td>4</td>\n      <td>311200</td>\n      <td>4</td>\n      <td>1879834</td>\n      <td>0</td>\n    </tr>\n    <tr>\n      <th>1</th>\n      <td>201901</td>\n      <td>강원</td>\n      <td>강릉시</td>\n      <td>건강보조식품 소매업</td>\n      <td>강원 강릉시</td>\n      <td>30대</td>\n      <td>남성</td>\n      <td>영유아자녀가구</td>\n      <td>7</td>\n      <td>1374500</td>\n      <td>8</td>\n      <td>1879834</td>\n      <td>0</td>\n    </tr>\n    <tr>\n      <th>2</th>\n      <td>201901</td>\n      <td>강원</td>\n      <td>강릉시</td>\n      <td>건강보조식품 소매업</td>\n      <td>강원 강릉시</td>\n      <td>30대</td>\n      <td>여성</td>\n      <td>영유아자녀가구</td>\n      <td>6</td>\n      <td>818700</td>\n      <td>6</td>\n      <td>1879834</td>\n      <td>0</td>\n    </tr>\n    <tr>\n      <th>3</th>\n      <td>201901</td>\n      <td>강원</td>\n      <td>강릉시</td>\n      <td>건강보조식품 소매업</td>\n      <td>강원 강릉시</td>\n      <td>40대</td>\n      <td>남성</td>\n      <td>중고생자녀가구</td>\n      <td>4</td>\n      <td>1717000</td>\n      <td>5</td>\n      <td>1879834</td>\n      <td>0</td>\n    </tr>\n    <tr>\n      <th>4</th>\n      <td>201901</td>\n      <td>강원</td>\n      <td>강릉시</td>\n      <td>건강보조식품 소매업</td>\n      <td>강원 강릉시</td>\n      <td>40대</td>\n      <td>남성</td>\n      <td>성인자녀가구</td>\n      <td>3</td>\n      <td>1047300</td>\n      <td>3</td>\n      <td>1879834</td>\n      <td>0</td>\n    </tr>\n  </tbody>\n</table>\n</div>"
     },
     "metadata": {},
     "execution_count": 16
    }
   ],
   "source": [
    "card_no_na.head()"
   ]
  },
  {
   "cell_type": "code",
   "execution_count": 17,
   "metadata": {},
   "outputs": [],
   "source": [
    "# # csv로 저장 \n",
    "# card_no_na.to_csv('c:/data/personal/wagecancel_add.csv',index=False)"
   ]
  }
 ]
}