{
 "metadata": {
  "language_info": {
   "codemirror_mode": {
    "name": "ipython",
    "version": 3
   },
   "file_extension": ".py",
   "mimetype": "text/x-python",
   "name": "python",
   "nbconvert_exporter": "python",
   "pygments_lexer": "ipython3",
   "version": "3.7.6-final"
  },
  "orig_nbformat": 2,
  "kernelspec": {
   "name": "python3",
   "display_name": "Python 3"
  }
 },
 "nbformat": 4,
 "nbformat_minor": 2,
 "cells": [
  {
   "cell_type": "code",
   "execution_count": 20,
   "metadata": {},
   "outputs": [],
   "source": [
    "import pandas as pd \n",
    "# card1 = 201901-202003 카드사용량\n",
    "# card2 = 202004 카드사용량\n",
    "# wage = 구별 소득\n",
    "row1=pd.read_csv('c:/data/personal/card1.csv')\n",
    "row2=pd.read_csv('c:/data/personal/card2.csv')\n",
    "wage=pd.read_csv('c:/data/personal/wage.csv',encoding='cp949')\n"
   ]
  },
  {
   "cell_type": "code",
   "execution_count": 21,
   "metadata": {},
   "outputs": [
    {
     "output_type": "execute_result",
     "data": {
      "text/plain": [
       "          REG_YYMM CARD_SIDO_NM CARD_CCG_NM STD_CLSS_NM HOM_SIDO_NM  \\\n",
       "0           201901           강원         강릉시  건강보조식품 소매업          강원   \n",
       "1           201901           강원         강릉시  건강보조식품 소매업          강원   \n",
       "2           201901           강원         강릉시  건강보조식품 소매업          강원   \n",
       "3           201901           강원         강릉시  건강보조식품 소매업          강원   \n",
       "4           201901           강원         강릉시  건강보조식품 소매업          강원   \n",
       "...            ...          ...         ...         ...         ...   \n",
       "24697787    202003           충북         충주시    휴양콘도 운영업          충북   \n",
       "24697788    202003           충북         충주시    휴양콘도 운영업          충북   \n",
       "24697789    202003           충북         충주시    휴양콘도 운영업          충북   \n",
       "24697790    202003           충북         충주시    휴양콘도 운영업          충북   \n",
       "24697791    202003           충북         충주시    휴양콘도 운영업          충북   \n",
       "\n",
       "         HOM_CCG_NM  AGE  SEX_CTGO_CD  FLC  CSTMR_CNT      AMT  CNT  \n",
       "0               강릉시  20s            1    1          4   311200    4  \n",
       "1               강릉시  30s            1    2          7  1374500    8  \n",
       "2               강릉시  30s            2    2          6   818700    6  \n",
       "3               강릉시  40s            1    3          4  1717000    5  \n",
       "4               강릉시  40s            1    4          3  1047300    3  \n",
       "...             ...  ...          ...  ...        ...      ...  ...  \n",
       "24697787        충주시  30s            1    2          3    43300    4  \n",
       "24697788        충주시  40s            1    3          3    35000    3  \n",
       "24697789        충주시  50s            1    4          4   188000    6  \n",
       "24697790        충주시  50s            2    4          4    99000    6  \n",
       "24697791        충주시  60s            1    5          3   194000    3  \n",
       "\n",
       "[24697792 rows x 12 columns]"
      ],
      "text/html": "<div>\n<style scoped>\n    .dataframe tbody tr th:only-of-type {\n        vertical-align: middle;\n    }\n\n    .dataframe tbody tr th {\n        vertical-align: top;\n    }\n\n    .dataframe thead th {\n        text-align: right;\n    }\n</style>\n<table border=\"1\" class=\"dataframe\">\n  <thead>\n    <tr style=\"text-align: right;\">\n      <th></th>\n      <th>REG_YYMM</th>\n      <th>CARD_SIDO_NM</th>\n      <th>CARD_CCG_NM</th>\n      <th>STD_CLSS_NM</th>\n      <th>HOM_SIDO_NM</th>\n      <th>HOM_CCG_NM</th>\n      <th>AGE</th>\n      <th>SEX_CTGO_CD</th>\n      <th>FLC</th>\n      <th>CSTMR_CNT</th>\n      <th>AMT</th>\n      <th>CNT</th>\n    </tr>\n  </thead>\n  <tbody>\n    <tr>\n      <th>0</th>\n      <td>201901</td>\n      <td>강원</td>\n      <td>강릉시</td>\n      <td>건강보조식품 소매업</td>\n      <td>강원</td>\n      <td>강릉시</td>\n      <td>20s</td>\n      <td>1</td>\n      <td>1</td>\n      <td>4</td>\n      <td>311200</td>\n      <td>4</td>\n    </tr>\n    <tr>\n      <th>1</th>\n      <td>201901</td>\n      <td>강원</td>\n      <td>강릉시</td>\n      <td>건강보조식품 소매업</td>\n      <td>강원</td>\n      <td>강릉시</td>\n      <td>30s</td>\n      <td>1</td>\n      <td>2</td>\n      <td>7</td>\n      <td>1374500</td>\n      <td>8</td>\n    </tr>\n    <tr>\n      <th>2</th>\n      <td>201901</td>\n      <td>강원</td>\n      <td>강릉시</td>\n      <td>건강보조식품 소매업</td>\n      <td>강원</td>\n      <td>강릉시</td>\n      <td>30s</td>\n      <td>2</td>\n      <td>2</td>\n      <td>6</td>\n      <td>818700</td>\n      <td>6</td>\n    </tr>\n    <tr>\n      <th>3</th>\n      <td>201901</td>\n      <td>강원</td>\n      <td>강릉시</td>\n      <td>건강보조식품 소매업</td>\n      <td>강원</td>\n      <td>강릉시</td>\n      <td>40s</td>\n      <td>1</td>\n      <td>3</td>\n      <td>4</td>\n      <td>1717000</td>\n      <td>5</td>\n    </tr>\n    <tr>\n      <th>4</th>\n      <td>201901</td>\n      <td>강원</td>\n      <td>강릉시</td>\n      <td>건강보조식품 소매업</td>\n      <td>강원</td>\n      <td>강릉시</td>\n      <td>40s</td>\n      <td>1</td>\n      <td>4</td>\n      <td>3</td>\n      <td>1047300</td>\n      <td>3</td>\n    </tr>\n    <tr>\n      <th>...</th>\n      <td>...</td>\n      <td>...</td>\n      <td>...</td>\n      <td>...</td>\n      <td>...</td>\n      <td>...</td>\n      <td>...</td>\n      <td>...</td>\n      <td>...</td>\n      <td>...</td>\n      <td>...</td>\n      <td>...</td>\n    </tr>\n    <tr>\n      <th>24697787</th>\n      <td>202003</td>\n      <td>충북</td>\n      <td>충주시</td>\n      <td>휴양콘도 운영업</td>\n      <td>충북</td>\n      <td>충주시</td>\n      <td>30s</td>\n      <td>1</td>\n      <td>2</td>\n      <td>3</td>\n      <td>43300</td>\n      <td>4</td>\n    </tr>\n    <tr>\n      <th>24697788</th>\n      <td>202003</td>\n      <td>충북</td>\n      <td>충주시</td>\n      <td>휴양콘도 운영업</td>\n      <td>충북</td>\n      <td>충주시</td>\n      <td>40s</td>\n      <td>1</td>\n      <td>3</td>\n      <td>3</td>\n      <td>35000</td>\n      <td>3</td>\n    </tr>\n    <tr>\n      <th>24697789</th>\n      <td>202003</td>\n      <td>충북</td>\n      <td>충주시</td>\n      <td>휴양콘도 운영업</td>\n      <td>충북</td>\n      <td>충주시</td>\n      <td>50s</td>\n      <td>1</td>\n      <td>4</td>\n      <td>4</td>\n      <td>188000</td>\n      <td>6</td>\n    </tr>\n    <tr>\n      <th>24697790</th>\n      <td>202003</td>\n      <td>충북</td>\n      <td>충주시</td>\n      <td>휴양콘도 운영업</td>\n      <td>충북</td>\n      <td>충주시</td>\n      <td>50s</td>\n      <td>2</td>\n      <td>4</td>\n      <td>4</td>\n      <td>99000</td>\n      <td>6</td>\n    </tr>\n    <tr>\n      <th>24697791</th>\n      <td>202003</td>\n      <td>충북</td>\n      <td>충주시</td>\n      <td>휴양콘도 운영업</td>\n      <td>충북</td>\n      <td>충주시</td>\n      <td>60s</td>\n      <td>1</td>\n      <td>5</td>\n      <td>3</td>\n      <td>194000</td>\n      <td>3</td>\n    </tr>\n  </tbody>\n</table>\n<p>24697792 rows × 12 columns</p>\n</div>"
     },
     "metadata": {},
     "execution_count": 21
    }
   ],
   "source": [
    "# 201901-202003 데이터읽기\n",
    "row1.head(100000000)"
   ]
  },
  {
   "cell_type": "code",
   "execution_count": 22,
   "metadata": {},
   "outputs": [
    {
     "output_type": "execute_result",
     "data": {
      "text/plain": [
       "   REG_YYMM CARD_SIDO_NM CARD_CCG_NM STD_CLSS_NM HOM_SIDO_NM HOM_CCG_NM  AGE  \\\n",
       "0    202004           강원         강릉시  건강보조식품 소매업          강원        강릉시  40s   \n",
       "1    202004           강원         강릉시  건강보조식품 소매업          강원        강릉시  40s   \n",
       "2    202004           강원         강릉시  건강보조식품 소매업          강원        강릉시  50s   \n",
       "3    202004           강원         강릉시  건강보조식품 소매업          강원        강릉시  50s   \n",
       "4    202004           강원         강릉시  건강보조식품 소매업          강원        강릉시  60s   \n",
       "\n",
       "   SEX_CTGO_CD  FLC  CSTMR_CNT      AMT  CNT  \n",
       "0            1    3          3   779600    4  \n",
       "1            2    3         14  2427700   15  \n",
       "2            1    4         18  2184600   18  \n",
       "3            2    4         21  3653100   23  \n",
       "4            1    5         15  2765500   18  "
      ],
      "text/html": "<div>\n<style scoped>\n    .dataframe tbody tr th:only-of-type {\n        vertical-align: middle;\n    }\n\n    .dataframe tbody tr th {\n        vertical-align: top;\n    }\n\n    .dataframe thead th {\n        text-align: right;\n    }\n</style>\n<table border=\"1\" class=\"dataframe\">\n  <thead>\n    <tr style=\"text-align: right;\">\n      <th></th>\n      <th>REG_YYMM</th>\n      <th>CARD_SIDO_NM</th>\n      <th>CARD_CCG_NM</th>\n      <th>STD_CLSS_NM</th>\n      <th>HOM_SIDO_NM</th>\n      <th>HOM_CCG_NM</th>\n      <th>AGE</th>\n      <th>SEX_CTGO_CD</th>\n      <th>FLC</th>\n      <th>CSTMR_CNT</th>\n      <th>AMT</th>\n      <th>CNT</th>\n    </tr>\n  </thead>\n  <tbody>\n    <tr>\n      <th>0</th>\n      <td>202004</td>\n      <td>강원</td>\n      <td>강릉시</td>\n      <td>건강보조식품 소매업</td>\n      <td>강원</td>\n      <td>강릉시</td>\n      <td>40s</td>\n      <td>1</td>\n      <td>3</td>\n      <td>3</td>\n      <td>779600</td>\n      <td>4</td>\n    </tr>\n    <tr>\n      <th>1</th>\n      <td>202004</td>\n      <td>강원</td>\n      <td>강릉시</td>\n      <td>건강보조식품 소매업</td>\n      <td>강원</td>\n      <td>강릉시</td>\n      <td>40s</td>\n      <td>2</td>\n      <td>3</td>\n      <td>14</td>\n      <td>2427700</td>\n      <td>15</td>\n    </tr>\n    <tr>\n      <th>2</th>\n      <td>202004</td>\n      <td>강원</td>\n      <td>강릉시</td>\n      <td>건강보조식품 소매업</td>\n      <td>강원</td>\n      <td>강릉시</td>\n      <td>50s</td>\n      <td>1</td>\n      <td>4</td>\n      <td>18</td>\n      <td>2184600</td>\n      <td>18</td>\n    </tr>\n    <tr>\n      <th>3</th>\n      <td>202004</td>\n      <td>강원</td>\n      <td>강릉시</td>\n      <td>건강보조식품 소매업</td>\n      <td>강원</td>\n      <td>강릉시</td>\n      <td>50s</td>\n      <td>2</td>\n      <td>4</td>\n      <td>21</td>\n      <td>3653100</td>\n      <td>23</td>\n    </tr>\n    <tr>\n      <th>4</th>\n      <td>202004</td>\n      <td>강원</td>\n      <td>강릉시</td>\n      <td>건강보조식품 소매업</td>\n      <td>강원</td>\n      <td>강릉시</td>\n      <td>60s</td>\n      <td>1</td>\n      <td>5</td>\n      <td>15</td>\n      <td>2765500</td>\n      <td>18</td>\n    </tr>\n  </tbody>\n</table>\n</div>"
     },
     "metadata": {},
     "execution_count": 22
    }
   ],
   "source": [
    "# 202004 데이터읽기\n",
    "row2.head()"
   ]
  },
  {
   "cell_type": "code",
   "execution_count": 23,
   "metadata": {},
   "outputs": [
    {
     "output_type": "execute_result",
     "data": {
      "text/plain": [
       "     HOME     Wage\n",
       "0  강원 강릉시  1879834\n",
       "1  강원 고성군  1928694\n",
       "2  강원 동해시  1882971\n",
       "3  강원 삼척시  2138766\n",
       "4  강원 속초시  1795991"
      ],
      "text/html": "<div>\n<style scoped>\n    .dataframe tbody tr th:only-of-type {\n        vertical-align: middle;\n    }\n\n    .dataframe tbody tr th {\n        vertical-align: top;\n    }\n\n    .dataframe thead th {\n        text-align: right;\n    }\n</style>\n<table border=\"1\" class=\"dataframe\">\n  <thead>\n    <tr style=\"text-align: right;\">\n      <th></th>\n      <th>HOME</th>\n      <th>Wage</th>\n    </tr>\n  </thead>\n  <tbody>\n    <tr>\n      <th>0</th>\n      <td>강원 강릉시</td>\n      <td>1879834</td>\n    </tr>\n    <tr>\n      <th>1</th>\n      <td>강원 고성군</td>\n      <td>1928694</td>\n    </tr>\n    <tr>\n      <th>2</th>\n      <td>강원 동해시</td>\n      <td>1882971</td>\n    </tr>\n    <tr>\n      <th>3</th>\n      <td>강원 삼척시</td>\n      <td>2138766</td>\n    </tr>\n    <tr>\n      <th>4</th>\n      <td>강원 속초시</td>\n      <td>1795991</td>\n    </tr>\n  </tbody>\n</table>\n</div>"
     },
     "metadata": {},
     "execution_count": 23
    }
   ],
   "source": [
    "# 시군구별 평균소득월액 데이터읽기\n",
    "wage.head()"
   ]
  },
  {
   "cell_type": "code",
   "execution_count": 24,
   "metadata": {},
   "outputs": [],
   "source": [
    "# 카드데이터병합\n",
    "card=pd.concat([row1,row2])\n",
    "# 데이터 컬럼명 변경 \n",
    "card.columns=['DATE',\"CARD_AREA\",\"CARD_AREA_D\",\"CLASS\",\"HOME\",\"HOME_D\",\"AGE\",\"SEX\",\"HOUSE\",\"CLIENT\",\"AMT\",\"CNT\"]\n"
   ]
  },
  {
   "cell_type": "code",
   "execution_count": 25,
   "metadata": {},
   "outputs": [],
   "source": [
    "# wage데이터랑 병합하기 위해 전처리\n",
    "card['HOME']=card['HOME'].map(str)+\" \"+card['HOME_D']\n",
    "card=card.drop(['HOME_D'],axis='columns')\n",
    "# 카드데이터에서 wage에 없는 시군구 선택\n",
    "mask=card['HOME'].isin(['경기 고양시 일산동구','경기 고양시 일산서구','경기 성남시 수정구','경기 성남시 중원구','경기 수원시 장안구',\n",
    "'경기 수원시 팔달구','경기 안산시 상록구','경기 용인시 수지구','경기 용인시 처인구','경남 창원시 마산회원구'\n",
    ",'경남 창원시 성산구','경남 창원시 성산구','경남 창원시 진해구','경북 포항시 북구','전북 전주시 완산구','충남 천안시 서북구','충북 청주시 서원구','충북 청주시 청원구','충북 청주시 흥덕구','경기 수원시 영통구','경기 안양시 만안구','경남 창원시 의창구'])\n",
    "# 카드데이터에서 wage에 없는 시군구만 삭제하기\n",
    "card_remove=card[~mask]\n"
   ]
  },
  {
   "cell_type": "code",
   "execution_count": 26,
   "metadata": {},
   "outputs": [],
   "source": [
    "# 전처리가 완료된 카드데이터와 시군구별 월소득액 데이터 조인 \n",
    "card=pd.merge(card_remove,wage)"
   ]
  },
  {
   "cell_type": "code",
   "execution_count": 27,
   "metadata": {},
   "outputs": [
    {
     "output_type": "execute_result",
     "data": {
      "text/plain": [
       "     DATE CARD_AREA CARD_AREA_D       CLASS    HOME  AGE  SEX  HOUSE  CLIENT  \\\n",
       "0  201901        강원         강릉시  건강보조식품 소매업  강원 강릉시  20s    1      1       4   \n",
       "1  201901        강원         강릉시  건강보조식품 소매업  강원 강릉시  30s    1      2       7   \n",
       "2  201901        강원         강릉시  건강보조식품 소매업  강원 강릉시  30s    2      2       6   \n",
       "3  201901        강원         강릉시  건강보조식품 소매업  강원 강릉시  40s    1      3       4   \n",
       "4  201901        강원         강릉시  건강보조식품 소매업  강원 강릉시  40s    1      4       3   \n",
       "\n",
       "       AMT  CNT     Wage  \n",
       "0   311200    4  1879834  \n",
       "1  1374500    8  1879834  \n",
       "2   818700    6  1879834  \n",
       "3  1717000    5  1879834  \n",
       "4  1047300    3  1879834  "
      ],
      "text/html": "<div>\n<style scoped>\n    .dataframe tbody tr th:only-of-type {\n        vertical-align: middle;\n    }\n\n    .dataframe tbody tr th {\n        vertical-align: top;\n    }\n\n    .dataframe thead th {\n        text-align: right;\n    }\n</style>\n<table border=\"1\" class=\"dataframe\">\n  <thead>\n    <tr style=\"text-align: right;\">\n      <th></th>\n      <th>DATE</th>\n      <th>CARD_AREA</th>\n      <th>CARD_AREA_D</th>\n      <th>CLASS</th>\n      <th>HOME</th>\n      <th>AGE</th>\n      <th>SEX</th>\n      <th>HOUSE</th>\n      <th>CLIENT</th>\n      <th>AMT</th>\n      <th>CNT</th>\n      <th>Wage</th>\n    </tr>\n  </thead>\n  <tbody>\n    <tr>\n      <th>0</th>\n      <td>201901</td>\n      <td>강원</td>\n      <td>강릉시</td>\n      <td>건강보조식품 소매업</td>\n      <td>강원 강릉시</td>\n      <td>20s</td>\n      <td>1</td>\n      <td>1</td>\n      <td>4</td>\n      <td>311200</td>\n      <td>4</td>\n      <td>1879834</td>\n    </tr>\n    <tr>\n      <th>1</th>\n      <td>201901</td>\n      <td>강원</td>\n      <td>강릉시</td>\n      <td>건강보조식품 소매업</td>\n      <td>강원 강릉시</td>\n      <td>30s</td>\n      <td>1</td>\n      <td>2</td>\n      <td>7</td>\n      <td>1374500</td>\n      <td>8</td>\n      <td>1879834</td>\n    </tr>\n    <tr>\n      <th>2</th>\n      <td>201901</td>\n      <td>강원</td>\n      <td>강릉시</td>\n      <td>건강보조식품 소매업</td>\n      <td>강원 강릉시</td>\n      <td>30s</td>\n      <td>2</td>\n      <td>2</td>\n      <td>6</td>\n      <td>818700</td>\n      <td>6</td>\n      <td>1879834</td>\n    </tr>\n    <tr>\n      <th>3</th>\n      <td>201901</td>\n      <td>강원</td>\n      <td>강릉시</td>\n      <td>건강보조식품 소매업</td>\n      <td>강원 강릉시</td>\n      <td>40s</td>\n      <td>1</td>\n      <td>3</td>\n      <td>4</td>\n      <td>1717000</td>\n      <td>5</td>\n      <td>1879834</td>\n    </tr>\n    <tr>\n      <th>4</th>\n      <td>201901</td>\n      <td>강원</td>\n      <td>강릉시</td>\n      <td>건강보조식품 소매업</td>\n      <td>강원 강릉시</td>\n      <td>40s</td>\n      <td>1</td>\n      <td>4</td>\n      <td>3</td>\n      <td>1047300</td>\n      <td>3</td>\n      <td>1879834</td>\n    </tr>\n  </tbody>\n</table>\n</div>"
     },
     "metadata": {},
     "execution_count": 27
    }
   ],
   "source": [
    "# 최종확인\n",
    "card.head()"
   ]
  },
  {
   "cell_type": "code",
   "execution_count": 28,
   "metadata": {},
   "outputs": [],
   "source": [
    "# csv로 저장 \n",
    "card.to_csv('c:/data/personal/wage_add.csv',index=False)"
   ]
  }
 ]
}